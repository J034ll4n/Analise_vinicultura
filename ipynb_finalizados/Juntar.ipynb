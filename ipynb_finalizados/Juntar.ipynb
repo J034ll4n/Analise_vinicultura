{
 "cells": [
  {
   "cell_type": "code",
   "execution_count": 1,
   "id": "9ce2e31d",
   "metadata": {},
   "outputs": [],
   "source": [
    "import pandas as pd\n"
   ]
  },
  {
   "cell_type": "code",
   "execution_count": 2,
   "id": "62b2a894",
   "metadata": {},
   "outputs": [],
   "source": [
    "# Ler os CSVs\n",
    "viniferas = pd.read_csv('zProjeto_Final/Datasets/Viniferas.csv')\n",
    "sem_classificacao = pd.read_csv('zProjeto_Final/Datasets/Sem_Classificacao.csv')\n",
    "americanas = pd.read_csv('zProjeto_Final/Datasets/Americanas.csv')"
   ]
  },
  {
   "cell_type": "code",
   "execution_count": 3,
   "id": "b3c7da16",
   "metadata": {},
   "outputs": [
    {
     "name": "stdout",
     "output_type": "stream",
     "text": [
      "                Nome   Ano  Quantidade (kg)  Quantidade (Kg)\n",
      "0             TINTAS  1970       10448228.0              NaN\n",
      "1  Alicante Bouschet  1970              0.0              NaN\n",
      "2           Ancelota  1970              0.0              NaN\n",
      "3             Aramon  1970              0.0              NaN\n",
      "4        Alfrocheiro  1970              0.0              NaN\n"
     ]
    }
   ],
   "source": [
    "# Concatenar todos\n",
    "todos = pd.concat([viniferas, sem_classificacao, americanas], ignore_index=True)\n",
    "\n",
    "# (Opcional) salvar o resultado num novo CSV\n",
    "todos.to_csv('Tudo_Junto.csv', index=False)\n",
    "\n",
    "# Dar uma olhada no resultado\n",
    "print(todos.head())"
   ]
  },
  {
   "cell_type": "code",
   "execution_count": null,
   "id": "95c7de00",
   "metadata": {},
   "outputs": [],
   "source": []
  }
 ],
 "metadata": {
  "kernelspec": {
   "display_name": "base",
   "language": "python",
   "name": "python3"
  },
  "language_info": {
   "codemirror_mode": {
    "name": "ipython",
    "version": 3
   },
   "file_extension": ".py",
   "mimetype": "text/x-python",
   "name": "python",
   "nbconvert_exporter": "python",
   "pygments_lexer": "ipython3",
   "version": "3.12.4"
  }
 },
 "nbformat": 4,
 "nbformat_minor": 5
}
